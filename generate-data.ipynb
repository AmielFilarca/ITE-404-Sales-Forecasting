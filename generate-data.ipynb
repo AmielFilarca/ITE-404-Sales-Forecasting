{
 "nbformat": 4,
 "nbformat_minor": 2,
 "metadata": {
  "language_info": {
   "name": "python",
   "codemirror_mode": {
    "name": "ipython",
    "version": 3
   },
   "version": "3.7.6-final"
  },
  "orig_nbformat": 2,
  "file_extension": ".py",
  "mimetype": "text/x-python",
  "name": "python",
  "npconvert_exporter": "python",
  "pygments_lexer": "ipython3",
  "version": 3,
  "kernelspec": {
   "name": "python38164bitschoolconda25c7a2e5be3c4c6484054dd6442b1c9f",
   "display_name": "Python 3.8.1 64-bit ('school': conda)"
  }
 },
 "cells": [
  {
   "cell_type": "code",
   "execution_count": null,
   "metadata": {},
   "outputs": [],
   "source": [
    "from random import choice\n",
    "import csv\n",
    "import pandas as pd \n",
    "import random\n",
    "import re"
   ]
  },
  {
   "cell_type": "code",
   "execution_count": null,
   "metadata": {},
   "outputs": [],
   "source": [
    "random.seed(21)"
   ]
  },
  {
   "cell_type": "code",
   "execution_count": null,
   "metadata": {},
   "outputs": [],
   "source": [
    "def get_month():\n",
    "    months = list(range(1, 13))\n",
    "    year = list(range(2015, 2020))\n",
    "    val = '{}-{:02d}'.format(choice(year), choice(months))\n",
    "    return val"
   ]
  },
  {
   "cell_type": "code",
   "execution_count": null,
   "metadata": {},
   "outputs": [],
   "source": [
    "with open('mrc.csv', newline='') as f:\n",
    "    reader = csv.reader(f)\n",
    "    mrc = list(reader)"
   ]
  },
  {
   "cell_type": "code",
   "execution_count": null,
   "metadata": {},
   "outputs": [],
   "source": [
    "def build_dataset():\n",
    "    sales_data = []\n",
    "    for x in range(0,1000):\n",
    "        data = [{'date': get_month(), 'mrc': int(float(re.sub('[^0-9]','', str(random.choice(mrc)))))}]\n",
    "        sales_data.extend(data)\n",
    "    df = pd.DataFrame(sales_data)\n",
    "    df = df[['date', 'mrc']]\n",
    "    return df"
   ]
  },
  {
   "cell_type": "code",
   "execution_count": null,
   "metadata": {},
   "outputs": [],
   "source": [
    "sales_df = build_dataset()\n",
    "sales_df.sort_values(by ='date')\n",
    "sales_df"
   ]
  },
  {
   "cell_type": "code",
   "execution_count": null,
   "metadata": {},
   "outputs": [],
   "source": [
    "sales_df = sales_df.groupby('date').mrc.sum().reset_index()\n",
    "sales_df"
   ]
  },
  {
   "cell_type": "code",
   "execution_count": null,
   "metadata": {},
   "outputs": [],
   "source": [
    "sales_df.to_csv('sales_dataset.csv', index=False, encoding='utf-8')"
   ]
  }
 ]
}